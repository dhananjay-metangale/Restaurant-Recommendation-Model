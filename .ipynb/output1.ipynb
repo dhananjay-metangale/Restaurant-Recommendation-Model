{
 "cells": [
  {
   "cell_type": "markdown",
   "id": "59fa12a2",
   "metadata": {},
   "source": [
    "# Importing Python Libraries"
   ]
  },
  {
   "cell_type": "code",
   "execution_count": 1,
   "id": "1ccd81a0",
   "metadata": {},
   "outputs": [],
   "source": [
    "import numpy as np\n",
    "import pandas as pd"
   ]
  },
  {
   "cell_type": "markdown",
   "id": "2ddfa299",
   "metadata": {},
   "source": [
    "# Reading Files Csv Files"
   ]
  },
  {
   "cell_type": "code",
   "execution_count": 2,
   "id": "ca7303aa",
   "metadata": {},
   "outputs": [],
   "source": [
    "mainds = pd.read_excel('MLProjectMainTable.xlsx')"
   ]
  },
  {
   "cell_type": "code",
   "execution_count": 3,
   "id": "b460f81b",
   "metadata": {},
   "outputs": [],
   "source": [
    "ds = pd.read_excel('FinalMlModelTable.xlsx')"
   ]
  },
  {
   "cell_type": "markdown",
   "id": "97fc78f7",
   "metadata": {},
   "source": [
    "# Performing EDA"
   ]
  },
  {
   "cell_type": "code",
   "execution_count": 4,
   "id": "add104a1",
   "metadata": {},
   "outputs": [
    {
     "data": {
      "text/plain": [
       "Cuisines         1336\n",
       "Price_for_one       0\n",
       "Address             0\n",
       "Ratings             0\n",
       "Reviews             0\n",
       "AVG_of_prices       0\n",
       "dtype: int64"
      ]
     },
     "execution_count": 4,
     "metadata": {},
     "output_type": "execute_result"
    }
   ],
   "source": [
    "ds.isnull().sum()"
   ]
  },
  {
   "cell_type": "code",
   "execution_count": 5,
   "id": "6de498a2",
   "metadata": {},
   "outputs": [],
   "source": [
    "ds.dropna(inplace = True)"
   ]
  },
  {
   "cell_type": "code",
   "execution_count": 6,
   "id": "91113cf6",
   "metadata": {},
   "outputs": [],
   "source": [
    "ds = ds[~ds['Cuisines'].isin([' '])]"
   ]
  },
  {
   "cell_type": "code",
   "execution_count": 7,
   "id": "12421604",
   "metadata": {},
   "outputs": [],
   "source": [
    "lst = ['cuisine 2', 'cuisine 3', 'cuisine 4', 'cusine 5', 'cusine 6',\n",
    "       'cusine 7', 'cusine 8']\n",
    "for i in lst:\n",
    "        mainds[i] = mainds[i].str[1:]"
   ]
  },
  {
   "cell_type": "markdown",
   "id": "8da8fdce",
   "metadata": {},
   "source": [
    "# The Following Codes Generate Insights Regarding The Location"
   ]
  },
  {
   "cell_type": "code",
   "execution_count": 8,
   "id": "408e56af",
   "metadata": {},
   "outputs": [],
   "source": [
    "def main(loc,keyword):\n",
    "    location = mainds[mainds['Address'].str.contains(loc, case=False)].Address.to_list()[0]\n",
    "    cuisine1 = ds[ds['Cuisines'].str.contains(keyword, case=False)].Cuisines.to_list()[0]\n",
    "    print(cuisine1)\n",
    "    location2 = ds[ds['Address'].str.contains(loc, case=False)].Address.to_list()[0]\n",
    "\n",
    "    def PopularRestaurant(location):\n",
    "        restaurant1 = mainds.loc[mainds[(mainds['Address']==location)].Ratings.idxmax()].Name\n",
    "        return restaurant1\n",
    "    pop_restaurant_loc = PopularRestaurant(location)\n",
    "\n",
    "    def PopularRestaurantsCuisine(location):\n",
    "        popcuisine = mainds.loc[mainds[(mainds['Address']==location)].Ratings.idxmax()].Cuisine1\n",
    "        return popcuisine\n",
    "    popcuisine_Res = PopularRestaurantsCuisine(location)\n",
    "\n",
    "    def PopularCuisine(location2):\n",
    "        Popcuisine = ds[(ds['Address']==location2)].Cuisines.value_counts().index.to_list()[0]\n",
    "        return Popcuisine\n",
    "    Popcuisine_loc = PopularCuisine(location2)\n",
    "\n",
    "    def AveragePriceForOne(location):\n",
    "        Price = round(mainds[(mainds['Address']==location)].Price_for_one.mean(),2)\n",
    "        return Price\n",
    "    Avg_Price = AveragePriceForOne(location)\n",
    "\n",
    "    def PopularRestaurantwithCuisines(location,cuisine1):\n",
    "        Restaurant2 = mainds.iloc[mainds[(mainds['Address']==location)&((mainds['Cuisine1']==cuisine1)|(mainds['cuisine 2']==cuisine1)|(mainds['cuisine 3']==cuisine1)|(mainds['cuisine 4']==cuisine1)|(mainds['cusine 5']==cuisine1)|(mainds['cusine 6']==cuisine1)|(mainds['cusine 7']==cuisine1)|(mainds['cusine 8']==cuisine1))].Reviews.idxmax()].Name\n",
    "        return Restaurant2\n",
    "    Popular_Restaurant = PopularRestaurantwithCuisines(location,cuisine1)\n",
    "    lst = [Avg_Price,Popcuisine_loc,pop_restaurant_loc,popcuisine_Res,Popular_Restaurant]   \n",
    "    return lst"
   ]
  },
  {
   "cell_type": "markdown",
   "id": "8e6a36ff",
   "metadata": {},
   "source": [
    "# The Following Function Initializes Main Function"
   ]
  },
  {
   "cell_type": "code",
   "execution_count": 9,
   "id": "cfcdd9b4",
   "metadata": {},
   "outputs": [],
   "source": [
    "def main2(loc,keyword): # Both The Parameters are provided by User on HTML Web-Page\n",
    "    location = mainds[mainds['Address'].str.contains(loc, case=False)].Address.to_list()[0]\n",
    "    cuisine1 = ds[ds['Cuisines'].str.contains(keyword, case=False)].Cuisines.to_list()[0]\n",
    "    lst = [location,cuisine1]\n",
    "    return lst"
   ]
  },
  {
   "cell_type": "code",
   "execution_count": null,
   "id": "fa6e76d5",
   "metadata": {},
   "outputs": [],
   "source": []
  }
 ],
 "metadata": {
  "kernelspec": {
   "display_name": "Python 3 (ipykernel)",
   "language": "python",
   "name": "python3"
  },
  "language_info": {
   "codemirror_mode": {
    "name": "ipython",
    "version": 3
   },
   "file_extension": ".py",
   "mimetype": "text/x-python",
   "name": "python",
   "nbconvert_exporter": "python",
   "pygments_lexer": "ipython3",
   "version": "3.9.13"
  }
 },
 "nbformat": 4,
 "nbformat_minor": 5
}
