{
 "cells": [
  {
   "cell_type": "markdown",
   "id": "6605334a",
   "metadata": {},
   "source": [
    "# Import Python Libraries"
   ]
  },
  {
   "cell_type": "code",
   "execution_count": 1,
   "id": "ddd36a4c",
   "metadata": {},
   "outputs": [],
   "source": [
    "import numpy as np\n",
    "import pandas as pd\n",
    "from sklearn.model_selection import train_test_split\n",
    "from sklearn.linear_model import LinearRegression\n",
    "from flask import Flask, request, jsonify\n",
    "import pickle\n",
    "import requests\n",
    "import json"
   ]
  },
  {
   "cell_type": "markdown",
   "id": "8c2d772d",
   "metadata": {},
   "source": [
    "# Reading Excel File"
   ]
  },
  {
   "cell_type": "code",
   "execution_count": 2,
   "id": "5323a1ea",
   "metadata": {},
   "outputs": [],
   "source": [
    "ds = pd.read_excel('FinalMlModelTable.xlsx')"
   ]
  },
  {
   "cell_type": "markdown",
   "id": "f53bcaad",
   "metadata": {},
   "source": [
    "# Performing EDA"
   ]
  },
  {
   "cell_type": "code",
   "execution_count": 3,
   "id": "815035be",
   "metadata": {},
   "outputs": [
    {
     "data": {
      "text/plain": [
       "Cuisines         1336\n",
       "Price_for_one       0\n",
       "Address             0\n",
       "Ratings             0\n",
       "Reviews             0\n",
       "AVG_of_prices       0\n",
       "dtype: int64"
      ]
     },
     "execution_count": 3,
     "metadata": {},
     "output_type": "execute_result"
    }
   ],
   "source": [
    "ds.isnull().sum()"
   ]
  },
  {
   "cell_type": "code",
   "execution_count": 4,
   "id": "fe499895",
   "metadata": {},
   "outputs": [],
   "source": [
    "ds.dropna(inplace = True)"
   ]
  },
  {
   "cell_type": "code",
   "execution_count": 5,
   "id": "b17e6591",
   "metadata": {},
   "outputs": [],
   "source": [
    "ds = ds[~ds['Cuisines'].isin([' '])]"
   ]
  },
  {
   "cell_type": "code",
   "execution_count": 7,
   "id": "5764bdce",
   "metadata": {},
   "outputs": [
    {
     "data": {
      "text/html": [
       "<div>\n",
       "<style scoped>\n",
       "    .dataframe tbody tr th:only-of-type {\n",
       "        vertical-align: middle;\n",
       "    }\n",
       "\n",
       "    .dataframe tbody tr th {\n",
       "        vertical-align: top;\n",
       "    }\n",
       "\n",
       "    .dataframe thead th {\n",
       "        text-align: right;\n",
       "    }\n",
       "</style>\n",
       "<table border=\"1\" class=\"dataframe\">\n",
       "  <thead>\n",
       "    <tr style=\"text-align: right;\">\n",
       "      <th></th>\n",
       "      <th>Cuisines</th>\n",
       "      <th>Price_for_one</th>\n",
       "      <th>Address</th>\n",
       "      <th>Ratings</th>\n",
       "      <th>Reviews</th>\n",
       "      <th>AVG_of_prices</th>\n",
       "    </tr>\n",
       "  </thead>\n",
       "  <tbody>\n",
       "    <tr>\n",
       "      <th>0</th>\n",
       "      <td>Pizza</td>\n",
       "      <td>200</td>\n",
       "      <td>Shanti Nagar</td>\n",
       "      <td>3.8</td>\n",
       "      <td>4426</td>\n",
       "      <td>187.71</td>\n",
       "    </tr>\n",
       "    <tr>\n",
       "      <th>1</th>\n",
       "      <td>Burger</td>\n",
       "      <td>200</td>\n",
       "      <td>Brigade Road</td>\n",
       "      <td>3.7</td>\n",
       "      <td>386</td>\n",
       "      <td>450.24</td>\n",
       "    </tr>\n",
       "    <tr>\n",
       "      <th>2</th>\n",
       "      <td>Burger</td>\n",
       "      <td>200</td>\n",
       "      <td>Commercial Street</td>\n",
       "      <td>3.9</td>\n",
       "      <td>10400</td>\n",
       "      <td>159.85</td>\n",
       "    </tr>\n",
       "    <tr>\n",
       "      <th>3</th>\n",
       "      <td>Biryani</td>\n",
       "      <td>200</td>\n",
       "      <td>Residency Road</td>\n",
       "      <td>4.4</td>\n",
       "      <td>23000</td>\n",
       "      <td>279.70</td>\n",
       "    </tr>\n",
       "    <tr>\n",
       "      <th>4</th>\n",
       "      <td>Mithai</td>\n",
       "      <td>200</td>\n",
       "      <td>Brigade Road</td>\n",
       "      <td>4.4</td>\n",
       "      <td>2621</td>\n",
       "      <td>153.29</td>\n",
       "    </tr>\n",
       "    <tr>\n",
       "      <th>...</th>\n",
       "      <td>...</td>\n",
       "      <td>...</td>\n",
       "      <td>...</td>\n",
       "      <td>...</td>\n",
       "      <td>...</td>\n",
       "      <td>...</td>\n",
       "    </tr>\n",
       "    <tr>\n",
       "      <th>2710</th>\n",
       "      <td>Desserts</td>\n",
       "      <td>150</td>\n",
       "      <td>BTM</td>\n",
       "      <td>3.5</td>\n",
       "      <td>9327</td>\n",
       "      <td>123.55</td>\n",
       "    </tr>\n",
       "    <tr>\n",
       "      <th>2717</th>\n",
       "      <td>Sichuan</td>\n",
       "      <td>100</td>\n",
       "      <td>BTM</td>\n",
       "      <td>3.7</td>\n",
       "      <td>472</td>\n",
       "      <td>152.75</td>\n",
       "    </tr>\n",
       "    <tr>\n",
       "      <th>2721</th>\n",
       "      <td>Sandwich</td>\n",
       "      <td>100</td>\n",
       "      <td>Vasanth Nagar</td>\n",
       "      <td>3.5</td>\n",
       "      <td>530</td>\n",
       "      <td>181.01</td>\n",
       "    </tr>\n",
       "    <tr>\n",
       "      <th>2730</th>\n",
       "      <td>Beverages</td>\n",
       "      <td>200</td>\n",
       "      <td>Seshadripuram</td>\n",
       "      <td>4.1</td>\n",
       "      <td>182</td>\n",
       "      <td>57.35</td>\n",
       "    </tr>\n",
       "    <tr>\n",
       "      <th>2746</th>\n",
       "      <td>Beverages</td>\n",
       "      <td>200</td>\n",
       "      <td>Brigade Road</td>\n",
       "      <td>4.3</td>\n",
       "      <td>19</td>\n",
       "      <td>147.00</td>\n",
       "    </tr>\n",
       "  </tbody>\n",
       "</table>\n",
       "<p>1415 rows × 6 columns</p>\n",
       "</div>"
      ],
      "text/plain": [
       "        Cuisines  Price_for_one            Address  Ratings  Reviews  \\\n",
       "0          Pizza            200       Shanti Nagar      3.8     4426   \n",
       "1         Burger            200       Brigade Road      3.7      386   \n",
       "2         Burger            200  Commercial Street      3.9    10400   \n",
       "3        Biryani            200     Residency Road      4.4    23000   \n",
       "4         Mithai            200       Brigade Road      4.4     2621   \n",
       "...          ...            ...                ...      ...      ...   \n",
       "2710    Desserts            150                BTM      3.5     9327   \n",
       "2717     Sichuan            100                BTM      3.7      472   \n",
       "2721    Sandwich            100      Vasanth Nagar      3.5      530   \n",
       "2730   Beverages            200      Seshadripuram      4.1      182   \n",
       "2746   Beverages            200       Brigade Road      4.3       19   \n",
       "\n",
       "      AVG_of_prices  \n",
       "0            187.71  \n",
       "1            450.24  \n",
       "2            159.85  \n",
       "3            279.70  \n",
       "4            153.29  \n",
       "...             ...  \n",
       "2710         123.55  \n",
       "2717         152.75  \n",
       "2721         181.01  \n",
       "2730          57.35  \n",
       "2746         147.00  \n",
       "\n",
       "[1415 rows x 6 columns]"
      ]
     },
     "execution_count": 7,
     "metadata": {},
     "output_type": "execute_result"
    }
   ],
   "source": [
    "ds"
   ]
  },
  {
   "cell_type": "markdown",
   "id": "a65322fb",
   "metadata": {},
   "source": [
    "# Encoding The Categorical Columns"
   ]
  },
  {
   "cell_type": "code",
   "execution_count": 8,
   "id": "99d1272c",
   "metadata": {},
   "outputs": [],
   "source": [
    "from sklearn.preprocessing import LabelEncoder,StandardScaler\n",
    "lr = LabelEncoder()\n",
    "sc = StandardScaler()"
   ]
  },
  {
   "cell_type": "code",
   "execution_count": 9,
   "id": "1f120b4b",
   "metadata": {},
   "outputs": [
    {
     "name": "stdout",
     "output_type": "stream",
     "text": [
      "<class 'pandas.core.frame.DataFrame'>\n",
      "Int64Index: 1415 entries, 0 to 2746\n",
      "Data columns (total 6 columns):\n",
      " #   Column         Non-Null Count  Dtype  \n",
      "---  ------         --------------  -----  \n",
      " 0   Cuisines       1415 non-null   object \n",
      " 1   Price_for_one  1415 non-null   int64  \n",
      " 2   Address        1415 non-null   object \n",
      " 3   Ratings        1415 non-null   float64\n",
      " 4   Reviews        1415 non-null   int64  \n",
      " 5   AVG_of_prices  1415 non-null   float64\n",
      "dtypes: float64(2), int64(2), object(2)\n",
      "memory usage: 77.4+ KB\n"
     ]
    }
   ],
   "source": [
    "ds.info()"
   ]
  },
  {
   "cell_type": "code",
   "execution_count": 10,
   "id": "1b8c3284",
   "metadata": {},
   "outputs": [],
   "source": [
    "ds['Cuisines'] = ds['Cuisines'].astype(str).str.strip()"
   ]
  },
  {
   "cell_type": "markdown",
   "id": "2a2faf2c",
   "metadata": {},
   "source": [
    "# Creating Dictionaries For Categorical Columns"
   ]
  },
  {
   "cell_type": "code",
   "execution_count": 11,
   "id": "4e37ba01",
   "metadata": {},
   "outputs": [],
   "source": [
    "ds['Cuisines']  = lr.fit_transform(ds['Cuisines'])\n",
    "cuisinedict = dict(zip(lr.classes_, range(len(lr.classes_))))\n",
    "ds['Address']  = lr.fit_transform(ds['Address'])\n",
    "Addressdict = dict(zip(lr.classes_, range(len(lr.classes_))))"
   ]
  },
  {
   "cell_type": "code",
   "execution_count": 12,
   "id": "b97f2ed2",
   "metadata": {},
   "outputs": [
    {
     "data": {
      "text/plain": [
       "{'Afghan': 0,\n",
       " 'American': 1,\n",
       " 'Andhra': 2,\n",
       " 'Arabian': 3,\n",
       " 'Asian': 4,\n",
       " 'BBQ': 5,\n",
       " 'Bakery': 6,\n",
       " 'Bar Food': 7,\n",
       " 'Beverages': 8,\n",
       " 'Biryani': 9,\n",
       " 'Burger': 10,\n",
       " 'Burmese': 11,\n",
       " 'Cafe': 12,\n",
       " 'Chettinad': 13,\n",
       " 'Chinese': 14,\n",
       " 'Coffee': 15,\n",
       " 'Continental': 16,\n",
       " 'Desserts': 17,\n",
       " 'European': 18,\n",
       " 'Fast Food': 19,\n",
       " 'Finger Food': 20,\n",
       " 'Healthy Food': 21,\n",
       " 'Hyderabadi': 22,\n",
       " 'Ice Cream': 23,\n",
       " 'Indonesian': 24,\n",
       " 'Iranian': 25,\n",
       " 'Italian': 26,\n",
       " 'Japanese': 27,\n",
       " 'Juices': 28,\n",
       " 'Kashmiri': 29,\n",
       " 'Kebab': 30,\n",
       " 'Kerala': 31,\n",
       " 'Korean': 32,\n",
       " 'Lebanese': 33,\n",
       " 'Lucknowi': 34,\n",
       " 'Maharashtrian': 35,\n",
       " 'Malaysian': 36,\n",
       " 'Mangalorean': 37,\n",
       " 'Mexican': 38,\n",
       " 'Middle Eastern': 39,\n",
       " 'Mithai': 40,\n",
       " 'Modern Indian': 41,\n",
       " 'Momos': 42,\n",
       " 'Mughlai': 43,\n",
       " 'North Indian': 44,\n",
       " 'Odia': 45,\n",
       " 'Oriental': 46,\n",
       " 'Paan': 47,\n",
       " 'Pancake': 48,\n",
       " 'Pasta': 49,\n",
       " 'Pizza': 50,\n",
       " 'Rajasthani': 51,\n",
       " 'Rolls': 52,\n",
       " 'Salad': 53,\n",
       " 'Sandwich': 54,\n",
       " 'Seafood': 55,\n",
       " 'Shake': 56,\n",
       " 'Shawarma': 57,\n",
       " 'Sichuan': 58,\n",
       " 'South Indian': 59,\n",
       " 'Street Food': 60,\n",
       " 'Tea': 61,\n",
       " 'Thai': 62,\n",
       " 'Tibetan': 63,\n",
       " 'Vietnamese': 64,\n",
       " 'Waffle': 65,\n",
       " 'Wraps': 66}"
      ]
     },
     "execution_count": 12,
     "metadata": {},
     "output_type": "execute_result"
    }
   ],
   "source": [
    "cuisinedict"
   ]
  },
  {
   "cell_type": "code",
   "execution_count": 13,
   "id": "34c090c2",
   "metadata": {},
   "outputs": [
    {
     "data": {
      "text/plain": [
       "{'1 Sobha': 0,\n",
       " 'BTM': 1,\n",
       " 'Banashankari': 2,\n",
       " 'Banaswadi': 3,\n",
       " 'Bannerghatta Road': 4,\n",
       " 'Basavanagudi': 5,\n",
       " 'Basaveshwara Nagar': 6,\n",
       " 'Brigade Road': 7,\n",
       " 'Church Street': 8,\n",
       " 'City Market': 9,\n",
       " 'Commercial Street': 10,\n",
       " 'Cunningham Road': 11,\n",
       " 'Domlur': 12,\n",
       " 'Ejipura': 13,\n",
       " 'Frazer Town': 14,\n",
       " 'HBR Layout': 15,\n",
       " 'Hosur Road': 16,\n",
       " 'Indiranagar': 17,\n",
       " 'Infantry Road': 18,\n",
       " 'JP Nagar': 19,\n",
       " 'Jayanagar': 20,\n",
       " 'Jeevan Bhima Nagar': 21,\n",
       " 'Kammanahalli': 22,\n",
       " 'Koramangala': 23,\n",
       " 'Kumaraswamy Layout': 24,\n",
       " 'Langford Town': 25,\n",
       " 'Lavelle Road': 26,\n",
       " 'MG Road': 27,\n",
       " 'Magrath Road': 28,\n",
       " 'Majestic': 29,\n",
       " 'Malleshwaram': 30,\n",
       " 'Nagawara': 31,\n",
       " 'New BEL Road': 32,\n",
       " 'Old Airport Road': 33,\n",
       " 'Old Madras Road': 34,\n",
       " 'RT Nagar': 35,\n",
       " 'Rajajinagar': 36,\n",
       " 'Residency Road': 37,\n",
       " 'Richmond Road': 38,\n",
       " 'Sadashiv Nagar': 39,\n",
       " 'Sanjay Nagar': 40,\n",
       " 'Seshadripuram': 41,\n",
       " 'Shanti Nagar': 42,\n",
       " 'Shivajinagar': 43,\n",
       " 'St. Marks Road': 44,\n",
       " 'Thippasandra': 45,\n",
       " 'UB City': 46,\n",
       " 'Ulsoor': 47,\n",
       " 'Vasanth Nagar': 48,\n",
       " 'Vijay Nagar': 49,\n",
       " 'Wilson Garden': 50,\n",
       " 'Yeshwantpur': 51}"
      ]
     },
     "execution_count": 13,
     "metadata": {},
     "output_type": "execute_result"
    }
   ],
   "source": [
    "Addressdict "
   ]
  },
  {
   "cell_type": "code",
   "execution_count": 14,
   "id": "a57b3f3e",
   "metadata": {},
   "outputs": [],
   "source": [
    "ds.drop(['Ratings','Reviews'],axis = 1,inplace = True)"
   ]
  },
  {
   "cell_type": "code",
   "execution_count": 15,
   "id": "bdca8265",
   "metadata": {},
   "outputs": [
    {
     "name": "stdout",
     "output_type": "stream",
     "text": [
      "[50 10  9 40 19 59 43 23  6 42 21 52 38 60 31 14 61  8 65  2 44 17 54 66\n",
      " 12  3 56  0 57 37  4 49 13 26 33 39 35 30 45 55 64  1 47 48 27 22 62 63\n",
      "  5 51 28 15 58 25 16  7 53 34 24 46 18 20 36 29 32 41 11]\n",
      "[200 100 250 150 300 350 600  50 450]\n",
      "[42  7 10 37 43 30  5 17 36 23  8 47 46 49 28 11 14  1 48 29 38 50 44 12\n",
      "  6 41 35 20 34 19 26 45 25 21  3  4 24 15 31  2 13 39 51  9 32 18 22 33\n",
      " 16  0 40 27]\n",
      "[187.71 450.24 159.85 279.7  153.29  82.89 188.   194.92 190.95 141.7\n",
      " 189.7  281.05 165.25 261.15 413.8  280.08 276.55 238.31 230.35 279.5\n",
      " 230.94 234.4  133.45 198.2  249.5  318.55 204.66 240.05 333.1  111.55\n",
      " 394.5  128.63  79.75  47.58 258.4   68.78 232.15 158.1   87.17 181.75\n",
      " 233.8  112.6  122.19 191.61 653.61 282.   150.45 270.6  110.5  266.\n",
      " 218.27 201.   346.   293.7  307.28 220.5  263.   139.13 245.35  76.5\n",
      " 134.15 749.37 251.7  222.38 126.65 208.95 179.8  126.5  234.    99.\n",
      " 281.75 189.5  105.42 216.8  529.4  395.3  216.2  340.   135.5  266.75\n",
      " 207.   146.05 172.15 166.   272.15 223.4   83.   468.7  807.5  281.65\n",
      " 222.22 150.15  31.67 119.75 100.4  283.    61.47 216.95 195.65  77.95\n",
      " 205.5  166.3  132.15 207.2  542.75 222.45 105.5  268.4   74.7  195.\n",
      " 280.   485.55 204.55 289.5  220.   183.95 242.95 312.8  796.8   72.9\n",
      " 113.   386.   261.5  192.25 165.8  318.27 115.   136.95 185.35 230.05\n",
      " 366.4  342.65 105.75  96.5  243.25 147.55 283.9  125.5   69.75  73.6\n",
      " 162.45 126.45  76.25 296.3  356.6   99.75  77.7  276.6  158.35 364.75\n",
      " 158.4  168.25 172.85 183.   308.3  206.15 127.5  147.46 123.25 493.\n",
      " 201.25 106.5  362.65  99.6  242.5  226.45 103.6  233.   130.75 208.5\n",
      "  94.   270.5  240.   425.5  285.35 347.3  219.85 100.   103.95  86.25\n",
      " 119.77 284.3  210.35 219.   816.5   65.   156.55 246.4   74.9  160.55\n",
      "  74.25 146.5  136.35 558.35  28.88 360.75 396.4  175.75 136.75  60.35\n",
      "  99.5  115.45 191.35  85.3  133.2  205.   100.45 144.5   68.25  58.8\n",
      "  99.25 543.6  215.97 119.35 342.5  171.8   80.    94.95 410.5  115.25\n",
      "  74.8  146.75  84.25 118.5  134.35 127.1   60.   107.   102.6   80.55\n",
      " 111.75 341.54 235.9  275.43  57.25 211.8   96.7  270.3  245.95 172.75\n",
      " 211.75 195.05 178.1  186.76 140.65 196.   169.2  322.5   82.   359.84\n",
      " 182.76 357.25 139.25 118.8   56.05 149.45 386.5  228.05 240.5  155.93\n",
      " 403.   149.5  573.15 152.46 108.45 116.75 114.45 363.4  267.25 337.\n",
      " 162.5  131.8  304.45 358.85 127.25 245.5  577.5   88.41 182.   272.5\n",
      " 167.75 225.8  148.75  91.25 189.75 130.73 133.25 153.75 131.25 114.25\n",
      " 123.55 116.   133.5  458.75 146.   116.08 273.   152.75 199.5  296.31\n",
      " 100.71 181.01 106.25  90.4  105.4  158.44 223.25  56.25 184.85 178.9\n",
      "  57.35 115.7  167.4  132.5   78.25 295.75 314.   180.64 305.35 163.25\n",
      " 205.1  221.99  65.4  153.1  147.    95.25 413.   191.   117.18 180.6 ]\n"
     ]
    }
   ],
   "source": [
    "for i in ds.columns:\n",
    "    print(ds[i].unique())"
   ]
  },
  {
   "cell_type": "markdown",
   "id": "abaf6a9e",
   "metadata": {},
   "source": [
    "# Splitting The Labeled Dataset into Input and Output"
   ]
  },
  {
   "cell_type": "code",
   "execution_count": 16,
   "id": "56c233bb",
   "metadata": {},
   "outputs": [],
   "source": [
    "x = ds.drop('Price_for_one', axis = 1).values\n",
    "y = ds['Price_for_one'].values"
   ]
  },
  {
   "cell_type": "code",
   "execution_count": 17,
   "id": "c2f2f4e9",
   "metadata": {},
   "outputs": [],
   "source": [
    "from sklearn.model_selection import train_test_split"
   ]
  },
  {
   "cell_type": "markdown",
   "id": "fef2bd7f",
   "metadata": {},
   "source": [
    "# Splitting into Train Test Data"
   ]
  },
  {
   "cell_type": "code",
   "execution_count": 18,
   "id": "93267433",
   "metadata": {},
   "outputs": [],
   "source": [
    "xtrain,xtest,ytrain,ytest = train_test_split(x,y,test_size = 0.1,random_state = 42)"
   ]
  },
  {
   "cell_type": "code",
   "execution_count": 19,
   "id": "7384bc8a",
   "metadata": {},
   "outputs": [
    {
     "data": {
      "text/plain": [
       "array([[  8.  ,   5.  , 189.7 ],\n",
       "       [  9.  ,  47.  , 394.5 ],\n",
       "       [ 17.  ,  37.  , 245.95],\n",
       "       ...,\n",
       "       [  8.  ,  22.  , 342.5 ],\n",
       "       [  9.  ,   8.  , 337.  ],\n",
       "       [ 30.  ,  23.  , 223.4 ]])"
      ]
     },
     "execution_count": 19,
     "metadata": {},
     "output_type": "execute_result"
    }
   ],
   "source": [
    "xtrain"
   ]
  },
  {
   "cell_type": "code",
   "execution_count": 20,
   "id": "f4329404",
   "metadata": {},
   "outputs": [
    {
     "data": {
      "text/plain": [
       "array([100, 100, 100, ..., 100, 300, 100], dtype=int64)"
      ]
     },
     "execution_count": 20,
     "metadata": {},
     "output_type": "execute_result"
    }
   ],
   "source": [
    "ytrain"
   ]
  },
  {
   "cell_type": "code",
   "execution_count": 21,
   "id": "2e15c4c4",
   "metadata": {},
   "outputs": [
    {
     "data": {
      "text/plain": [
       "array([ 50, 250, 200, 300, 200, 350, 200, 150, 350, 200, 100, 150, 350,\n",
       "       100, 100, 150, 300, 250, 200, 200, 100, 300, 150, 100, 200, 300,\n",
       "       100, 350, 100, 200, 100, 100, 200, 250, 100, 200, 250, 350, 250,\n",
       "       100, 100, 300, 100, 250, 350, 300, 200, 100, 200, 250,  50, 200,\n",
       "       350, 100, 100, 250, 350, 200, 300, 100, 250, 100, 100, 200, 250,\n",
       "       100, 100, 150, 300, 200, 150, 100, 200, 100, 100, 100, 250, 350,\n",
       "       100, 200, 250, 200, 300, 100, 100, 150, 100, 100, 150, 100, 200,\n",
       "       100, 250, 250, 100, 100, 200, 200, 150, 150, 150, 300, 300, 250,\n",
       "       250, 300, 100, 100, 100, 250, 100, 350, 200, 200, 300, 200, 200,\n",
       "       350, 100, 100, 200, 200, 100, 150, 300, 100, 300, 100,  50, 300,\n",
       "       250, 600, 250, 200, 300, 150,  50, 100, 100, 250, 200, 200],\n",
       "      dtype=int64)"
      ]
     },
     "execution_count": 21,
     "metadata": {},
     "output_type": "execute_result"
    }
   ],
   "source": [
    "ytest"
   ]
  },
  {
   "cell_type": "code",
   "execution_count": 23,
   "id": "0970b5eb",
   "metadata": {},
   "outputs": [],
   "source": [
    "import seaborn as sns"
   ]
  },
  {
   "cell_type": "code",
   "execution_count": 24,
   "id": "0aee6774",
   "metadata": {},
   "outputs": [
    {
     "data": {
      "text/plain": [
       "<AxesSubplot:>"
      ]
     },
     "execution_count": 24,
     "metadata": {},
     "output_type": "execute_result"
    },
    {
     "data": {
      "image/png": "[encoded data removed]",
      "text/plain": [
       "<Figure size 640x480 with 2 Axes>"
      ]
     },
     "metadata": {},
     "output_type": "display_data"
    }
   ],
   "source": [
    "sns.heatmap(ds.corr(), annot = True)"
   ]
  },
  {
   "cell_type": "markdown",
   "id": "93b644d7",
   "metadata": {},
   "source": [
    "# Decision Tree Model To Predict Price Of Cuisines"
   ]
  },
  {
   "cell_type": "code",
   "execution_count": 25,
   "id": "7ed9a235",
   "metadata": {},
   "outputs": [],
   "source": [
    "from sklearn.tree import DecisionTreeClassifier"
   ]
  },
  {
   "cell_type": "code",
   "execution_count": 26,
   "id": "dbe08221",
   "metadata": {},
   "outputs": [],
   "source": [
    "dc = DecisionTreeClassifier()"
   ]
  },
  {
   "cell_type": "code",
   "execution_count": 27,
   "id": "00516377",
   "metadata": {},
   "outputs": [
    {
     "data": {
      "text/plain": [
       "DecisionTreeClassifier()"
      ]
     },
     "execution_count": 27,
     "metadata": {},
     "output_type": "execute_result"
    }
   ],
   "source": [
    "dc.fit(xtrain,ytrain)"
   ]
  },
  {
   "cell_type": "code",
   "execution_count": 28,
   "id": "5aa1c6ab",
   "metadata": {},
   "outputs": [],
   "source": [
    "ypred3 = dc.predict(xtest)"
   ]
  },
  {
   "cell_type": "code",
   "execution_count": 29,
   "id": "1a0d0391",
   "metadata": {},
   "outputs": [],
   "source": [
    "from sklearn.metrics import accuracy_score,precision_score,recall_score"
   ]
  },
  {
   "cell_type": "code",
   "execution_count": 30,
   "id": "02788f91",
   "metadata": {},
   "outputs": [
    {
     "data": {
      "text/plain": [
       "0.9225352112676056"
      ]
     },
     "execution_count": 30,
     "metadata": {},
     "output_type": "execute_result"
    }
   ],
   "source": [
    "accuracy_score(ytest,ypred3)"
   ]
  },
  {
   "cell_type": "code",
   "execution_count": 31,
   "id": "9d8ce97c",
   "metadata": {},
   "outputs": [
    {
     "name": "stderr",
     "output_type": "stream",
     "text": [
      "C:\\Users\\harsh\\anaconda3\\lib\\site-packages\\sklearn\\metrics\\_classification.py:1370: UserWarning: Note that pos_label (set to 'positive') is ignored when average != 'binary' (got 'micro'). You may use labels=[pos_label] to specify a single positive class.\n",
      "  warnings.warn(\n"
     ]
    },
    {
     "data": {
      "text/plain": [
       "0.9225352112676056"
      ]
     },
     "execution_count": 31,
     "metadata": {},
     "output_type": "execute_result"
    }
   ],
   "source": [
    "precision_score(ytest,ypred3,pos_label='positive',average='micro')"
   ]
  },
  {
   "cell_type": "markdown",
   "id": "ceaba8d8",
   "metadata": {},
   "source": [
    "# Dumping The Dc Model in Pickle File"
   ]
  },
  {
   "cell_type": "code",
   "execution_count": 32,
   "id": "44456562",
   "metadata": {},
   "outputs": [],
   "source": [
    "pickle.dump(dc, open('MLProject.pkl','wb'))"
   ]
  },
  {
   "cell_type": "code",
   "execution_count": 33,
   "id": "e68b6100",
   "metadata": {},
   "outputs": [],
   "source": [
    "load_model =  pickle.load(open('MLProject.pkl', 'rb'))"
   ]
  },
  {
   "cell_type": "code",
   "execution_count": 34,
   "id": "b1227fdd",
   "metadata": {},
   "outputs": [
    {
     "name": "stdout",
     "output_type": "stream",
     "text": [
      "[100]\n"
     ]
    }
   ],
   "source": [
    "print(load_model.predict([[8.0000e+00, 5.0000e+00, 1.8970e+02]]))"
   ]
  },
  {
   "cell_type": "code",
   "execution_count": 35,
   "id": "210d6e41",
   "metadata": {},
   "outputs": [
    {
     "data": {
      "text/plain": [
       "array([[  8.  ,   5.  , 189.7 ],\n",
       "       [  9.  ,  47.  , 394.5 ],\n",
       "       [ 17.  ,  37.  , 245.95],\n",
       "       ...,\n",
       "       [  8.  ,  22.  , 342.5 ],\n",
       "       [  9.  ,   8.  , 337.  ],\n",
       "       [ 30.  ,  23.  , 223.4 ]])"
      ]
     },
     "execution_count": 35,
     "metadata": {},
     "output_type": "execute_result"
    }
   ],
   "source": [
    "xtrain"
   ]
  },
  {
   "cell_type": "code",
   "execution_count": 36,
   "id": "70197c22",
   "metadata": {},
   "outputs": [
    {
     "data": {
      "text/plain": [
       "array([100, 100, 100, ..., 100, 300, 100], dtype=int64)"
      ]
     },
     "execution_count": 36,
     "metadata": {},
     "output_type": "execute_result"
    }
   ],
   "source": [
    "ytrain"
   ]
  },
  {
   "cell_type": "code",
   "execution_count": 39,
   "id": "fd48ba03",
   "metadata": {},
   "outputs": [
    {
     "data": {
      "text/html": [
       "<div>\n",
       "<style scoped>\n",
       "    .dataframe tbody tr th:only-of-type {\n",
       "        vertical-align: middle;\n",
       "    }\n",
       "\n",
       "    .dataframe tbody tr th {\n",
       "        vertical-align: top;\n",
       "    }\n",
       "\n",
       "    .dataframe thead th {\n",
       "        text-align: right;\n",
       "    }\n",
       "</style>\n",
       "<table border=\"1\" class=\"dataframe\">\n",
       "  <thead>\n",
       "    <tr style=\"text-align: right;\">\n",
       "      <th></th>\n",
       "      <th>Cuisines</th>\n",
       "      <th>Price_for_one</th>\n",
       "      <th>Address</th>\n",
       "      <th>AVG_of_prices</th>\n",
       "    </tr>\n",
       "  </thead>\n",
       "  <tbody>\n",
       "    <tr>\n",
       "      <th>0</th>\n",
       "      <td>50</td>\n",
       "      <td>200</td>\n",
       "      <td>42</td>\n",
       "      <td>187.71</td>\n",
       "    </tr>\n",
       "    <tr>\n",
       "      <th>1</th>\n",
       "      <td>10</td>\n",
       "      <td>200</td>\n",
       "      <td>7</td>\n",
       "      <td>450.24</td>\n",
       "    </tr>\n",
       "    <tr>\n",
       "      <th>2</th>\n",
       "      <td>10</td>\n",
       "      <td>200</td>\n",
       "      <td>10</td>\n",
       "      <td>159.85</td>\n",
       "    </tr>\n",
       "    <tr>\n",
       "      <th>3</th>\n",
       "      <td>9</td>\n",
       "      <td>200</td>\n",
       "      <td>37</td>\n",
       "      <td>279.70</td>\n",
       "    </tr>\n",
       "    <tr>\n",
       "      <th>4</th>\n",
       "      <td>40</td>\n",
       "      <td>200</td>\n",
       "      <td>7</td>\n",
       "      <td>153.29</td>\n",
       "    </tr>\n",
       "    <tr>\n",
       "      <th>...</th>\n",
       "      <td>...</td>\n",
       "      <td>...</td>\n",
       "      <td>...</td>\n",
       "      <td>...</td>\n",
       "    </tr>\n",
       "    <tr>\n",
       "      <th>2710</th>\n",
       "      <td>17</td>\n",
       "      <td>150</td>\n",
       "      <td>1</td>\n",
       "      <td>123.55</td>\n",
       "    </tr>\n",
       "    <tr>\n",
       "      <th>2717</th>\n",
       "      <td>58</td>\n",
       "      <td>100</td>\n",
       "      <td>1</td>\n",
       "      <td>152.75</td>\n",
       "    </tr>\n",
       "    <tr>\n",
       "      <th>2721</th>\n",
       "      <td>54</td>\n",
       "      <td>100</td>\n",
       "      <td>48</td>\n",
       "      <td>181.01</td>\n",
       "    </tr>\n",
       "    <tr>\n",
       "      <th>2730</th>\n",
       "      <td>8</td>\n",
       "      <td>200</td>\n",
       "      <td>41</td>\n",
       "      <td>57.35</td>\n",
       "    </tr>\n",
       "    <tr>\n",
       "      <th>2746</th>\n",
       "      <td>8</td>\n",
       "      <td>200</td>\n",
       "      <td>7</td>\n",
       "      <td>147.00</td>\n",
       "    </tr>\n",
       "  </tbody>\n",
       "</table>\n",
       "<p>1415 rows × 4 columns</p>\n",
       "</div>"
      ],
      "text/plain": [
       "      Cuisines  Price_for_one  Address  AVG_of_prices\n",
       "0           50            200       42         187.71\n",
       "1           10            200        7         450.24\n",
       "2           10            200       10         159.85\n",
       "3            9            200       37         279.70\n",
       "4           40            200        7         153.29\n",
       "...        ...            ...      ...            ...\n",
       "2710        17            150        1         123.55\n",
       "2717        58            100        1         152.75\n",
       "2721        54            100       48         181.01\n",
       "2730         8            200       41          57.35\n",
       "2746         8            200        7         147.00\n",
       "\n",
       "[1415 rows x 4 columns]"
      ]
     },
     "execution_count": 39,
     "metadata": {},
     "output_type": "execute_result"
    }
   ],
   "source": [
    "ds"
   ]
  },
  {
   "cell_type": "markdown",
   "id": "5776bbec",
   "metadata": {},
   "source": [
    "# Creating Random Forest Classifier To Predict Address as Per Cuisine & Price"
   ]
  },
  {
   "cell_type": "code",
   "execution_count": 52,
   "id": "748066ef",
   "metadata": {},
   "outputs": [],
   "source": [
    "from sklearn.ensemble import RandomForestClassifier"
   ]
  },
  {
   "cell_type": "code",
   "execution_count": 53,
   "id": "4a584a86",
   "metadata": {},
   "outputs": [],
   "source": [
    "X=ds.drop(['Address'],axis = 1).values\n",
    "Y=ds['Address'].values\n",
    "\n",
    "X_train1,X_test1,Y_train1,Y_test1 = train_test_split(X,Y,test_size=0.1,random_state=42)\n",
    "\n",
    "rfc=RandomForestClassifier(n_estimators=20,min_samples_split=10,max_features='log2',max_depth=10,criterion='gini')\n",
    "rfc.fit(X_train1,Y_train1)\n",
    "\n",
    "pickle.dump(rfc, open(\"rfc_model.pkl\", \"wb\"))"
   ]
  },
  {
   "cell_type": "markdown",
   "id": "10c7efe6",
   "metadata": {},
   "source": [
    "# Dumping Rfc Model in Pickle File"
   ]
  },
  {
   "cell_type": "code",
   "execution_count": 54,
   "id": "558d5d70",
   "metadata": {},
   "outputs": [],
   "source": [
    "ypred = rfc.predict(X_test1)"
   ]
  },
  {
   "cell_type": "code",
   "execution_count": 55,
   "id": "e28ca4b0",
   "metadata": {},
   "outputs": [
    {
     "data": {
      "text/plain": [
       "0.3591549295774648"
      ]
     },
     "execution_count": 55,
     "metadata": {},
     "output_type": "execute_result"
    }
   ],
   "source": [
    "accuracy_score(Y_test1,ypred)"
   ]
  },
  {
   "cell_type": "code",
   "execution_count": 62,
   "id": "339e4a05",
   "metadata": {},
   "outputs": [
    {
     "data": {
      "text/plain": [
       "array([[  8.  ,  50.  ,  99.5 ],\n",
       "       [ 10.  , 250.  , 249.5 ],\n",
       "       [ 44.  , 200.  ,  95.25],\n",
       "       [  9.  , 300.  , 156.55],\n",
       "       [ 59.  , 200.  , 396.4 ],\n",
       "       [  9.  , 350.  , 493.  ],\n",
       "       [ 14.  , 200.  , 136.75],\n",
       "       [ 44.  , 150.  , 126.5 ],\n",
       "       [ 56.  , 350.  ,  99.6 ],\n",
       "       [ 10.  , 200.  , 201.  ],\n",
       "       [ 28.  , 100.  , 102.6 ],\n",
       "       [ 14.  , 150.  , 205.  ],\n",
       "       [ 26.  , 350.  , 100.  ],\n",
       "       [ 21.  , 100.  , 112.6 ],\n",
       "       [ 58.  , 100.  , 172.75],\n",
       "       [ 17.  , 150.  , 413.  ],\n",
       "       [ 23.  , 300.  ,  58.8 ],\n",
       "       [ 56.  , 250.  , 127.25],\n",
       "       [ 59.  , 200.  , 178.9 ],\n",
       "       [ 56.  , 200.  , 208.5 ],\n",
       "       [  8.  , 100.  , 186.76],\n",
       "       [ 17.  , 300.  ,  99.25],\n",
       "       [ 14.  , 150.  , 386.5 ],\n",
       "       [ 40.  , 100.  , 266.  ],\n",
       "       [ 59.  , 200.  , 113.  ],\n",
       "       [ 44.  , 300.  , 156.55],\n",
       "       [ 14.  , 100.  , 281.75],\n",
       "       [ 50.  , 350.  , 127.1 ],\n",
       "       [ 58.  , 100.  , 233.8 ],\n",
       "       [ 16.  , 200.  ,  57.35],\n",
       "       [  8.  , 100.  , 102.6 ],\n",
       "       [ 17.  , 100.  , 276.55],\n",
       "       [ 44.  , 200.  , 240.5 ],\n",
       "       [ 54.  , 250.  , 230.94],\n",
       "       [  9.  , 100.  , 258.4 ],\n",
       "       [ 62.  , 200.  , 220.5 ],\n",
       "       [ 44.  , 250.  , 146.  ],\n",
       "       [  3.  , 350.  ,  88.41],\n",
       "       [  9.  , 250.  , 249.5 ],\n",
       "       [ 59.  , 100.  , 111.55],\n",
       "       [ 14.  , 100.  , 158.35],\n",
       "       [ 14.  , 300.  , 268.4 ],\n",
       "       [ 60.  , 100.  , 131.8 ],\n",
       "       [ 14.  , 250.  ,  73.6 ],\n",
       "       [ 14.  , 350.  , 105.5 ],\n",
       "       [  9.  , 300.  , 162.5 ],\n",
       "       [ 14.  , 200.  , 266.  ],\n",
       "       [ 60.  , 100.  , 266.  ],\n",
       "       [ 59.  , 200.  , 155.93],\n",
       "       [  8.  , 250.  , 136.95],\n",
       "       [ 44.  ,  50.  , 115.45],\n",
       "       [  9.  , 200.  ,  94.95],\n",
       "       [ 60.  , 350.  , 111.75],\n",
       "       [ 17.  , 100.  , 160.55],\n",
       "       [ 50.  , 100.  , 395.3 ],\n",
       "       [ 44.  , 250.  ,  76.25],\n",
       "       [ 52.  , 350.  , 413.8 ],\n",
       "       [ 44.  , 200.  , 308.3 ],\n",
       "       [ 14.  , 300.  , 195.  ],\n",
       "       [ 55.  , 100.  , 199.5 ],\n",
       "       [  8.  , 250.  , 192.25],\n",
       "       [  9.  , 100.  , 653.61],\n",
       "       [  6.  , 100.  , 112.6 ],\n",
       "       [ 14.  , 200.  ,  94.95],\n",
       "       [ 60.  , 250.  , 119.35],\n",
       "       [  9.  , 100.  ,  68.78],\n",
       "       [  9.  , 100.  , 807.5 ],\n",
       "       [ 14.  , 150.  , 146.75],\n",
       "       [  9.  , 300.  , 131.8 ],\n",
       "       [ 60.  , 200.  , 134.35],\n",
       "       [ 42.  , 150.  , 386.5 ],\n",
       "       [  9.  , 100.  , 223.4 ],\n",
       "       [ 54.  , 200.  , 141.7 ],\n",
       "       [ 44.  , 100.  , 266.75],\n",
       "       [ 43.  , 100.  , 216.8 ],\n",
       "       [ 45.  , 100.  , 105.4 ],\n",
       "       [ 44.  , 250.  , 249.5 ],\n",
       "       [  8.  , 350.  ,  88.41],\n",
       "       [ 43.  , 100.  , 272.15],\n",
       "       [ 10.  , 200.  , 119.77],\n",
       "       [ 17.  , 250.  , 216.8 ],\n",
       "       [ 35.  , 200.  , 130.75],\n",
       "       [ 54.  , 300.  ,  58.8 ],\n",
       "       [ 10.  , 100.  ,  79.75],\n",
       "       [  9.  , 100.  , 191.61],\n",
       "       [ 44.  , 150.  , 149.45],\n",
       "       [ 44.  , 100.  ,  84.25],\n",
       "       [ 14.  , 100.  , 131.8 ],\n",
       "       [  9.  , 150.  , 191.  ],\n",
       "       [ 56.  , 100.  ,  31.67],\n",
       "       [ 19.  , 200.  , 115.7 ],\n",
       "       [ 14.  , 100.  , 258.4 ],\n",
       "       [  8.  , 250.  , 215.97],\n",
       "       [ 14.  , 250.  ,  99.75],\n",
       "       [ 17.  , 100.  , 342.65],\n",
       "       [ 50.  , 100.  , 181.01],\n",
       "       [ 19.  , 200.  ,  77.95],\n",
       "       [  8.  , 200.  , 796.8 ],\n",
       "       [  9.  , 150.  , 208.95],\n",
       "       [ 17.  , 150.  , 573.15],\n",
       "       [ 17.  , 150.  , 148.75],\n",
       "       [  3.  , 300.  , 289.5 ],\n",
       "       [ 23.  , 300.  ,  99.25],\n",
       "       [  8.  , 250.  ,  80.  ],\n",
       "       [ 60.  , 250.  , 238.31],\n",
       "       [  9.  , 300.  , 195.  ],\n",
       "       [ 14.  , 100.  , 147.55],\n",
       "       [ 23.  , 100.  ,  79.75],\n",
       "       [ 19.  , 100.  ,  79.75],\n",
       "       [ 43.  , 250.  , 577.5 ],\n",
       "       [  8.  , 100.  , 240.  ],\n",
       "       [ 14.  , 350.  ,  99.6 ],\n",
       "       [ 58.  , 200.  , 240.5 ],\n",
       "       [ 19.  , 200.  , 187.71],\n",
       "       [  6.  , 300.  , 543.6 ],\n",
       "       [ 44.  , 200.  , 196.  ],\n",
       "       [ 35.  , 200.  , 113.  ],\n",
       "       [ 31.  , 350.  , 103.95],\n",
       "       [ 58.  , 100.  , 147.55],\n",
       "       [ 60.  , 100.  ,  99.  ],\n",
       "       [ 14.  , 200.  , 190.95],\n",
       "       [ 17.  , 200.  , 180.6 ],\n",
       "       [ 34.  , 100.  , 283.9 ],\n",
       "       [  9.  , 150.  , 123.55],\n",
       "       [  9.  , 300.  , 114.45],\n",
       "       [  9.  , 100.  , 146.5 ],\n",
       "       [ 52.  , 300.  , 211.8 ],\n",
       "       [ 40.  , 100.  ,  90.4 ],\n",
       "       [  8.  ,  50.  ,  82.  ],\n",
       "       [ 60.  , 300.  ,  65.  ],\n",
       "       [ 56.  , 250.  ,  69.75],\n",
       "       [ 43.  , 600.  , 360.75],\n",
       "       [ 23.  , 250.  , 127.25],\n",
       "       [ 17.  , 200.  , 341.54],\n",
       "       [  6.  , 300.  , 116.75],\n",
       "       [ 61.  , 150.  , 222.38],\n",
       "       [ 28.  ,  50.  ,  85.3 ],\n",
       "       [ 33.  , 100.  , 130.73],\n",
       "       [ 17.  , 100.  , 395.3 ],\n",
       "       [ 14.  , 250.  , 133.45],\n",
       "       [  8.  , 200.  , 233.  ],\n",
       "       [ 14.  , 200.  , 123.25]])"
      ]
     },
     "execution_count": 62,
     "metadata": {},
     "output_type": "execute_result"
    }
   ],
   "source": [
    "X_test1"
   ]
  },
  {
   "cell_type": "code",
   "execution_count": 63,
   "id": "8d0fe277",
   "metadata": {},
   "outputs": [
    {
     "data": {
      "text/plain": [
       "array([14, 11,  1, 36, 17, 41, 17,  1, 49, 23,  1, 20, 11,  1, 36, 17, 35,\n",
       "        1, 29, 20, 23, 36, 48, 17, 41, 49, 17, 49, 23, 41,  1, 17, 23, 23,\n",
       "       23, 14, 26,  1, 11,  1,  1,  6, 30,  1, 20,  5, 17, 30, 35, 26, 49,\n",
       "        1, 49, 17, 17, 31, 42, 20, 30, 23, 42, 17,  7,  1, 49,  1, 17, 35,\n",
       "       49,  1, 17, 23,  7, 17, 23, 33, 14,  1, 17,  1, 18,  1, 35,  1, 23,\n",
       "       35,  1, 23,  1, 36,  1, 23, 18,  1, 23, 48, 21,  6, 20, 17, 35, 19,\n",
       "       36,  1, 20, 30, 23,  1,  1, 14, 23,  1, 26, 42, 42, 23,  1, 20,  1,\n",
       "       30, 42, 36, 17,  1, 49, 23,  5,  1, 49, 35, 11,  6, 49, 48, 36, 14,\n",
       "       49,  1, 23, 49, 14, 17])"
      ]
     },
     "execution_count": 63,
     "metadata": {},
     "output_type": "execute_result"
    }
   ],
   "source": [
    "ypred"
   ]
  },
  {
   "cell_type": "code",
   "execution_count": null,
   "id": "6af6e019",
   "metadata": {},
   "outputs": [],
   "source": []
  }
 ],
 "metadata": {
  "kernelspec": {
   "display_name": "Python 3 (ipykernel)",
   "language": "python",
   "name": "python3"
  },
  "language_info": {
   "codemirror_mode": {
    "name": "ipython",
    "version": 3
   },
   "file_extension": ".py",
   "mimetype": "text/x-python",
   "name": "python",
   "nbconvert_exporter": "python",
   "pygments_lexer": "ipython3",
   "version": "3.9.13"
  }
 },
 "nbformat": 4,
 "nbformat_minor": 5
}
